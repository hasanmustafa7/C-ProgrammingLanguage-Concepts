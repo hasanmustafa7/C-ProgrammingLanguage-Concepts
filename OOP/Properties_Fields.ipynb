{
 "cells": [
  {
   "cell_type": "code",
   "execution_count": null,
   "metadata": {
    "dotnet_interactive": {
     "language": "csharp"
    },
    "polyglot_notebook": {
     "kernelName": "csharp"
    }
   },
   "outputs": [],
   "source": [
    "\n",
    "//  //      <Properties> \n",
    "//  //      Properties are like methods.\n",
    "//  //      Naming Convention for properties:\n",
    "//  //                      - First Letter is uppercase.\n",
    " \n",
    "\n",
    "//  // Getter and setter properties in C#\n",
    "//  Shape square = new Shape();\n",
    "// Console.WriteLine(square.Width);\n",
    "//  class Shape\n",
    "//  {\n",
    "//      private int _length = 10;\n",
    "//      private int _width = 5;\n",
    "//      \n",
    "//      public int Width { get;\n",
    "//          set { _width = value; }\n",
    "//      }\n",
    "//  }\n",
    "\n",
    "//  // Object Initializer. \n",
    "//  // Object Initializer creates an object first then assign the values to the respective fields and properties. \n",
    "//  // Hence, object initializer does not work with readonly fields.\n",
    "//  // NOTE:  A property can not be readonly. \n",
    "\n",
    "// Person hasan = new Person()\n",
    "// {\n",
    "//     // Name = \"Hasan\",\n",
    "//     YearOfBirth = 123123,\n",
    "//     // age = 27        // won't work because age is not settable. It does not have a setter. Private setter will not work with object initializer.\n",
    "// };\n",
    "// class Person\n",
    "// {\n",
    "//     public readonly string Name; // can NOT use with object initializer.\n",
    "//     public int YearOfBirth { get; set; }\n",
    "//     public int age { get; } \n",
    "// }\n",
    "\n",
    "\n",
    "\n",
    "//  // A property must have a public setter if it is to be assigned by object initializer.\n",
    "//  // But a property with public setter is not a best practice to have. Since Encapsulation gets compromised.\n",
    "//  // A new accessor is introduced in C# v9 called init. It allows the initialization of properties only during the object construction. \n",
    "//  // It will assign the value during object construction. After that it will act as if it does not have a setter at all.\n",
    "\n",
    "\n",
    "\n",
    "\n",
    "// //  Should we use constructor or object initializer?\n",
    "// //       When using constructor we have to provide all the values. Otherwise the object creation will not take place.\n",
    "// //       Object initializer forces the property names to be written while being initialized so it must be more readable.\n",
    "\n",
    "\n",
    "\n",
    "\n",
    "// Console.WriteLine(Calculator.model);\n",
    "// // Properties does not always necessarily wrap a field. They may return an expression too.\n",
    "// // Any complex and performance heavy operation should be performed in methods instead of computed properties.\n",
    "\n",
    "// class Product\n",
    "// {\n",
    "//     public readonly string Name; // can NOT use with object initializer.\n",
    "//     public int ExpriryDate { get; set; }\n",
    "//\n",
    "//     public string Description() => $\"This is  a product with name : {Name}\"; // Computed Property is evaluated everytime it is called. Hence No performance heavy operation should be done in the body of computed properties.\n",
    "//     public string LongDescription // A property should never be performance-heavy. Like the one shown here. Such a long loop. Bad Practice!\n",
    "//     {\n",
    "//         get\n",
    "//         {\n",
    "//             string desc = \"\";\n",
    "//             for (int i = 0; i < 10000; i++)\n",
    "//             {\n",
    "//                 desc += i;\n",
    "//             }\n",
    "//             return desc;\n",
    "//         }\n",
    "//     }\n",
    "// }\n",
    "\n",
    "\n",
    "// // Static classes can not contain non static methods.\n",
    "// // It is generally a good practice to declare methods as static in case they do not make use of any data.\n",
    "// // Static methods work slightly faster.\n",
    "// static class Calculator // Stateless. No instance. No Object. No data. \n",
    "// {\n",
    "//     public static readonly string model = \"1kadlf234\";\n",
    "// }\n",
    "\n",
    "\n",
    "\n",
    "\n",
    "\n",
    "// // All const fields are implicitly static. They are shared across all the instances of the class.\n",
    "// // const can be applied to fields and as well as variables.\n",
    "// // readonly can only by applied to fields inside a class. (both static and non-static class)\n"
   ]
  }
 ],
 "metadata": {
  "kernelspec": {
   "display_name": ".NET (C#)",
   "language": "C#",
   "name": ".net-csharp"
  },
  "polyglot_notebook": {
   "kernelInfo": {
    "defaultKernelName": "csharp",
    "items": [
     {
      "aliases": [],
      "languageName": "csharp",
      "name": "csharp"
     }
    ]
   }
  }
 },
 "nbformat": 4,
 "nbformat_minor": 2
}
