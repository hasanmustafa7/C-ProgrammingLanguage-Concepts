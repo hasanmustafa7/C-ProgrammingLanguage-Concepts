{
 "cells": [
  {
   "cell_type": "code",
   "execution_count": null,
   "metadata": {
    "dotnet_interactive": {
     "language": "csharp"
    },
    "polyglot_notebook": {
     "kernelName": "csharp"
    }
   },
   "outputs": [],
   "source": [
    "/*\n",
    " * Upcasting and downcasting (similar to implicit and explicit conversion)\n",
    " * Converting derived class to the base class is called upcasting.\n",
    "*/\n",
    "\n",
    "Soldier soldier = new General();\n",
    "soldier.ObeyOrder();\n",
    "\n",
    "General general = new General();\n",
    "general.ObeyOrder();\n",
    "\n",
    "Soldier randomSoldier = new Commander();\n",
    "general = (Commander)randomSoldier; // wrong! Can not convert one derived type to another derived type.\n",
    "\n",
    "class Soldier\n",
    "{\n",
    " public bool IsRetired { get; set; }\n",
    " public string Rank { get; set; }\n",
    "\n",
    " public virtual void ObeyOrder()\n",
    " {\n",
    "  Console.WriteLine(\"I am soldier. I will obey order.\");\n",
    " }\n",
    "}\n",
    "class General :Soldier\n",
    "{\n",
    " public void MakePlan()\n",
    " {\n",
    "   Console.WriteLine(\"I am General. I will plan.\");\n",
    " }\n",
    "\n",
    " public override void ObeyOrder()\n",
    " {\n",
    "  Console.WriteLine(\"I am General. I will give order.\");\n",
    "  MakePlan();\n",
    " }\n",
    "}\n",
    "\n",
    "class Commander : Soldier\n",
    "{\n",
    " public void MakeCommand()\n",
    " {\n",
    "  Console.WriteLine(\"I am Commander. I will command\");\n",
    " }\n",
    "}\n",
    "\n",
    "class Kernel : Soldier\n",
    "{\n",
    " public void ExecuteCombat()\n",
    " {\n",
    "  Console.WriteLine(\"I am Kernel. I will execute combat\");\n",
    " }\n",
    "}"
   ]
  }
 ],
 "metadata": {
  "kernelspec": {
   "display_name": ".NET (C#)",
   "language": "C#",
   "name": ".net-csharp"
  },
  "polyglot_notebook": {
   "kernelInfo": {
    "defaultKernelName": "csharp",
    "items": [
     {
      "aliases": [],
      "languageName": "csharp",
      "name": "csharp"
     }
    ]
   }
  }
 },
 "nbformat": 4,
 "nbformat_minor": 2
}
