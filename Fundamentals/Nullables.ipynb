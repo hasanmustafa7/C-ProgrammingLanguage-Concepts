{
 "cells": [
  {
   "cell_type": "markdown",
   "metadata": {},
   "source": [
    "<h1>Nullables</h1>\n",
    "There are 2 ways of defining a value type as nullables.<br>\n",
    "Value Types are non nullable types. <br>\n",
    "DateTime is a value type. <br>"
   ]
  },
  {
   "cell_type": "code",
   "execution_count": 9,
   "metadata": {
    "dotnet_interactive": {
     "language": "csharp"
    },
    "polyglot_notebook": {
     "kernelName": "csharp"
    }
   },
   "outputs": [],
   "source": [
    "\n",
    "Nullable<DateTime> date = null; // Genric Type helping us create nullable types out of value types.\n",
    "DateTime? anotherDate = null;   // Short Hand way\n",
    "int? num = null;"
   ]
  },
  {
   "cell_type": "markdown",
   "metadata": {},
   "source": [
    "Important properties and a method for Nullable Types <br>\n",
    ".HasValue <br>\n",
    ".Value <br>\n",
    ".GetValueOrDefault() <br>"
   ]
  },
  {
   "cell_type": "code",
   "execution_count": 10,
   "metadata": {
    "dotnet_interactive": {
     "language": "csharp"
    },
    "polyglot_notebook": {
     "kernelName": "csharp"
    }
   },
   "outputs": [
    {
     "name": "stdout",
     "output_type": "stream",
     "text": [
      "GetValueOrDefault() : 1/1/0001 12:00:00 AM\n",
      "GetValueOrDefault() for int : 0\n"
     ]
    }
   ],
   "source": [
    "Console.WriteLine(\"GetValueOrDefault() : \" + date.GetValueOrDefault());\n",
    "Console.WriteLine(\"GetValueOrDefault() for int : \" + num.GetValueOrDefault());"
   ]
  },
  {
   "cell_type": "code",
   "execution_count": 11,
   "metadata": {
    "dotnet_interactive": {
     "language": "csharp"
    },
    "polyglot_notebook": {
     "kernelName": "csharp"
    }
   },
   "outputs": [
    {
     "name": "stdout",
     "output_type": "stream",
     "text": [
      ".HasValue : False\n"
     ]
    }
   ],
   "source": [
    "Console.WriteLine(\".HasValue : \" + date.HasValue);"
   ]
  },
  {
   "cell_type": "code",
   "execution_count": 12,
   "metadata": {
    "dotnet_interactive": {
     "language": "csharp"
    },
    "polyglot_notebook": {
     "kernelName": "csharp"
    }
   },
   "outputs": [
    {
     "ename": "Error",
     "evalue": "System.InvalidOperationException: Nullable object must have a value.\n   at System.Nullable`1.get_Value()\n   at Submission#13.<<Initialize>>d__0.MoveNext()\n--- End of stack trace from previous location ---\n   at Microsoft.CodeAnalysis.Scripting.ScriptExecutionState.RunSubmissionsAsync[TResult](ImmutableArray`1 precedingExecutors, Func`2 currentExecutor, StrongBox`1 exceptionHolderOpt, Func`2 catchExceptionOpt, CancellationToken cancellationToken)",
     "output_type": "error",
     "traceback": [
      "System.InvalidOperationException: Nullable object must have a value.\n",
      "   at System.Nullable`1.get_Value()\n",
      "   at Submission#13.<<Initialize>>d__0.MoveNext()\n",
      "--- End of stack trace from previous location ---\n",
      "   at Microsoft.CodeAnalysis.Scripting.ScriptExecutionState.RunSubmissionsAsync[TResult](ImmutableArray`1 precedingExecutors, Func`2 currentExecutor, StrongBox`1 exceptionHolderOpt, Func`2 catchExceptionOpt, CancellationToken cancellationToken)"
     ]
    }
   ],
   "source": [
    "Console.WriteLine(\".Value : \" + date.Value); // Throws exception when nullable type has null value assigned to it."
   ]
  },
  {
   "cell_type": "markdown",
   "metadata": {},
   "source": [
    "<h3>Rule Of Thumb</h3> \n",
    "Make sure nullable types have a value assigned to them whenever you access .Value property on them. <br>\n",
    "Otherwise, an exception will be thrown. <br>\n",
    "The preferred way of accessing the value on a nullable type is to call .GetValueOrDefault() method on the nullable type."
   ]
  },
  {
   "cell_type": "code",
   "execution_count": 13,
   "metadata": {
    "dotnet_interactive": {
     "language": "csharp"
    },
    "polyglot_notebook": {
     "kernelName": "csharp"
    }
   },
   "outputs": [
    {
     "ename": "Error",
     "evalue": "(2,18): error CS0266: Cannot implicitly convert type 'System.DateTime?' to 'System.DateTime'. An explicit conversion exists (are you missing a cast?)\n(5,21): error CS0266: Cannot implicitly convert type 'System.DateTime?' to 'System.DateTime'. An explicit conversion exists (are you missing a cast?)",
     "output_type": "error",
     "traceback": [
      "(2,18): error CS0266: Cannot implicitly convert type 'System.DateTime?' to 'System.DateTime'. An explicit conversion exists (are you missing a cast?)\n",
      "(5,21): error CS0266: Cannot implicitly convert type 'System.DateTime?' to 'System.DateTime'. An explicit conversion exists (are you missing a cast?)"
     ]
    }
   ],
   "source": [
    "DateTime? date = null;\n",
    "DateTime date2 = date;                      // Cannot assign Nullable type to Value Type. \n",
    "\n",
    "DateTime? newDate = new DateTime(2014,1,1);\n",
    "DateTime newDate2 = newDate;                // ❌ Wrong     |   nullable type to non-nullable type\n",
    "\n",
    "newDate2 = newDate.GetValueOrDefault();     // ✔️ Correct   |   newDate is not null. GetValueOrDefault() return actual value \n",
    "date2 = date.GetValueOrDefault();           // ✔️ Correct   |   date is null. GetValueOrDefault() returns default ➡️ 1/1/0001 12:00:00 AM."
   ]
  },
  {
   "cell_type": "markdown",
   "metadata": {},
   "source": [
    "<h3>Null Coalescing Operator </h3>"
   ]
  },
  {
   "cell_type": "code",
   "execution_count": 14,
   "metadata": {
    "dotnet_interactive": {
     "language": "csharp"
    },
    "polyglot_notebook": {
     "kernelName": "csharp"
    }
   },
   "outputs": [
    {
     "name": "stdout",
     "output_type": "stream",
     "text": [
      "4/22/2024 12:00:00 AM\n"
     ]
    }
   ],
   "source": [
    "DateTime? date = null;\n",
    "DateTime? date2 = date.GetValueOrDefault();\n",
    "\n",
    "if(date != null)\n",
    "{\n",
    "    date2 = date.Value;\n",
    "}else{\n",
    "    date2 = DateTime.Today;\n",
    "}\n",
    "\n",
    "Console.WriteLine(date2);\n"
   ]
  },
  {
   "cell_type": "code",
   "execution_count": 15,
   "metadata": {
    "dotnet_interactive": {
     "language": "csharp"
    },
    "polyglot_notebook": {
     "kernelName": "csharp"
    }
   },
   "outputs": [],
   "source": [
    "DateTime? date = null;\n",
    "DateTime date2 = date ?? DateTime.Today; // Similar to ternary operator"
   ]
  }
 ],
 "metadata": {
  "kernelspec": {
   "display_name": ".NET (C#)",
   "language": "C#",
   "name": ".net-csharp"
  },
  "language_info": {
   "name": "polyglot-notebook"
  },
  "polyglot_notebook": {
   "kernelInfo": {
    "defaultKernelName": "csharp",
    "items": [
     {
      "aliases": [],
      "languageName": "csharp",
      "name": "csharp"
     }
    ]
   }
  }
 },
 "nbformat": 4,
 "nbformat_minor": 2
}
