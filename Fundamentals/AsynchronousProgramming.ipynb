{
 "cells": [
  {
   "cell_type": "markdown",
   "metadata": {},
   "source": [
    "<h1>What is asynchronous Programming?</h1>\n",
    "\n",
    "Asychronous Programming is a technique that allows execution of multiple tasks in <strong>concurrent</strong> without blocking the main thread of execution.\n",
    "\n",
    "Async/Await are the keywords around which async programming revolves around.\n",
    "\n",
    "Async Keyword enables us to perform async programming using await. Without async, await can not be used.\n",
    "\n",
    "Whenever a task is <strong>awaited</strong>, the current thread of execution is freed and it can perform another operation it is handed over with. <br>\n",
    "\n",
    "<h3>What is a Task?</h3> <br> \n",
    "\n"
   ]
  },
  {
   "cell_type": "markdown",
   "metadata": {},
   "source": [
    "        TIP: \n",
    "- Do NOT return void from async method. Just return Task. <br>\n",
    "- Even if you don't await the task explicitly (await task), the task still runs because when you start a task using Task.Run, it begins execution immediately in the background. <br> \n",
    "Convention -> append Async on any method returning asynchronously.\n",
    "\n",
    "        HOW TO MEASURE THE TIME A TASK TAKES TO COMPLETE.\n",
    "<strong>\n",
    "var watch = System.Diagnostics.Stopwatch.StartNew();    <br>\n",
    "// Write your time consuming logic here <br>\n",
    "var elapses = watch.ElapsedMilliseconds; <br>\n",
    "Console.Write(elapses); <br>\n",
    "</strong>"
   ]
  },
  {
   "cell_type": "code",
   "execution_count": 1,
   "metadata": {
    "dotnet_interactive": {
     "language": "csharp"
    },
    "polyglot_notebook": {
     "kernelName": "csharp"
    }
   },
   "outputs": [],
   "source": [
    "using System.Threading;"
   ]
  },
  {
   "cell_type": "code",
   "execution_count": 2,
   "metadata": {
    "dotnet_interactive": {
     "language": "csharp"
    },
    "polyglot_notebook": {
     "kernelName": "csharp"
    }
   },
   "outputs": [],
   "source": [
    "public void PerformWork(){\n",
    "    int count = 1;\n",
    "    for(long i = 0 ; i < 1000000000 ; i++) // Takes around 2 seconds\n",
    "    {\n",
    "        count++;\n",
    "    }\n",
    "    Console.WriteLine(\"Work has been done!\");\n",
    "}"
   ]
  },
  {
   "cell_type": "code",
   "execution_count": 3,
   "metadata": {
    "dotnet_interactive": {
     "language": "csharp"
    },
    "polyglot_notebook": {
     "kernelName": "csharp"
    }
   },
   "outputs": [
    {
     "name": "stdout",
     "output_type": "stream",
     "text": [
      "Work has been done!\n",
      "I am main task\n",
      "I am main task\n",
      "I am main task\n",
      "I am main task\n",
      "I am main task\n"
     ]
    }
   ],
   "source": [
    "PerformWork();\n",
    "for(int i = 0 ; i < 5  ; i++)\n",
    "{\n",
    "    System.Threading.Thread.Sleep(1000);\n",
    "    Console.WriteLine(\"I am main task\");\n",
    "}"
   ]
  },
  {
   "cell_type": "code",
   "execution_count": 4,
   "metadata": {
    "dotnet_interactive": {
     "language": "csharp"
    },
    "polyglot_notebook": {
     "kernelName": "csharp"
    }
   },
   "outputs": [
    {
     "name": "stdout",
     "output_type": "stream",
     "text": [
      "Work has been done!\n",
      "I am main task\n",
      "I am main task\n",
      "I am main task\n",
      "I am main task\n",
      "I am main task\n",
      "I am main task\n",
      "I am main task\n",
      "I am main task\n",
      "I am main task\n",
      "I am main task\n"
     ]
    }
   ],
   "source": [
    "await Task.Run(()=> PerformWork());\n",
    "for(int i = 0 ; i < 10  ; i++)\n",
    "{\n",
    "    System.Threading.Thread.Sleep(1000);\n",
    "    Console.WriteLine(\"I am main task\");\n",
    "}"
   ]
  },
  {
   "cell_type": "code",
   "execution_count": 5,
   "metadata": {
    "dotnet_interactive": {
     "language": "csharp"
    },
    "polyglot_notebook": {
     "kernelName": "csharp"
    }
   },
   "outputs": [],
   "source": [
    "public async Task<string> PerformWorkAsync(){\n",
    "    await Task.Delay(5000); // Simulates time consuming operation\n",
    "    Console.WriteLine(\"Time consuming task is done\");\n",
    "    return \"454684351\";\n",
    "}"
   ]
  },
  {
   "cell_type": "code",
   "execution_count": 6,
   "metadata": {
    "dotnet_interactive": {
     "language": "csharp"
    },
    "polyglot_notebook": {
     "kernelName": "csharp"
    }
   },
   "outputs": [
    {
     "name": "stdout",
     "output_type": "stream",
     "text": [
      "Time consuming task is done\n",
      "Code : 454684351\n",
      "Main Thread Executed\n"
     ]
    }
   ],
   "source": [
    "using System.Threading;\n",
    "string code = await PerformWorkAsync();\n",
    "Console.WriteLine($\"Code : {code}\");\n",
    "Console.WriteLine(\"Main Thread Executed\");\n",
    "Thread.Sleep(7000); // Simulate Time Consuming"
   ]
  },
  {
   "cell_type": "markdown",
   "metadata": {},
   "source": [
    "<h1>        Running Multiple Tasks at once<h1>"
   ]
  },
  {
   "cell_type": "markdown",
   "metadata": {},
   "source": [
    "Task is a special fundamental Type in Task Parallel Library (TPL) that represents an asynchronous operation. "
   ]
  },
  {
   "cell_type": "markdown",
   "metadata": {},
   "source": [
    "        How to define a Task?\n",
    "Task.Run(async () => <br>\n",
    "{ <br>\n",
    "   // Perform some action here <br>\n",
    "});<br>\n",
    "\n"
   ]
  },
  {
   "cell_type": "code",
   "execution_count": 7,
   "metadata": {
    "dotnet_interactive": {
     "language": "csharp"
    },
    "polyglot_notebook": {
     "kernelName": "csharp"
    }
   },
   "outputs": [],
   "source": [
    "Task task1  = Task.Run(async () =>\n",
    "{\n",
    "    for(int i =0 ; i < 10 ; i++)\n",
    "    {\n",
    "        await Task.Delay(1000); // Simulate time consuming Task\n",
    "        Console.WriteLine(\"Task 1 executed\");\n",
    "    }\n",
    "});\n",
    "\n",
    "\n",
    "Task task2 = Task.Run(async () =>\n",
    "{\n",
    "    for(int i =0 ; i < 10 ; i++)\n",
    "    {\n",
    "        await Task.Delay(2000); // Simulate time consuming Task\n",
    "        Console.WriteLine(\"Task 2 executed\");\n",
    "    }\n",
    "});"
   ]
  },
  {
   "cell_type": "code",
   "execution_count": 8,
   "metadata": {
    "dotnet_interactive": {
     "language": "csharp"
    },
    "polyglot_notebook": {
     "kernelName": "csharp"
    }
   },
   "outputs": [
    {
     "name": "stdout",
     "output_type": "stream",
     "text": [
      "Both methods executed\r\n"
     ]
    }
   ],
   "source": [
    "await Task.WhenAll(task1,task2);\n",
    "Console.WriteLine(\"Both methods executed\");"
   ]
  },
  {
   "cell_type": "markdown",
   "metadata": {},
   "source": [
    "<h1>Cancelling the Task before it reaches completion</h1>\n",
    "\n",
    "        Create a CancellationTokenSource:\n",
    " First, create a CancellationTokenSource object. This object generates cancellation tokens that can be passed to tasks. <br>\n",
    "        \n",
    "        Pass the CancellationToken to the Task: \n",
    "When starting an asynchronous operation, pass the cancellation token from the CancellationTokenSource to the task as a parameter.\n",
    "        \n",
    "        Check for Cancellation: \n",
    "Within the task's code, periodically check if cancellation has been requested by calling the ThrowIfCancellationRequested method on the cancellation token. If cancellation is requested, exit the operation as gracefully as possible.\n",
    "        \n",
    "        Cancelling the Task: \n",
    "To cancel the task, call the Cancel method on the CancellationTokenSource object.\n"
   ]
  },
  {
   "cell_type": "code",
   "execution_count": 9,
   "metadata": {
    "dotnet_interactive": {
     "language": "csharp"
    },
    "polyglot_notebook": {
     "kernelName": "csharp"
    }
   },
   "outputs": [],
   "source": [
    "static async Task PerformAsyncOperation(CancellationToken cancellationToken)\n",
    "{\n",
    "    try\n",
    "    {\n",
    "        while (!cancellationToken.IsCancellationRequested)\n",
    "        {\n",
    "            // Simulate time consuming Taks\n",
    "            Console.WriteLine(\"Working...\");\n",
    "            await Task.Delay(1000); // Simulate Time consuming Task\n",
    "            cancellationToken.ThrowIfCancellationRequested();\n",
    "        }\n",
    "    }\n",
    "    catch (OperationCanceledException)\n",
    "    {\n",
    "        // Handle cancellation if needed\n",
    "        Console.WriteLine(\"Operation cancelled.\");\n",
    "        // throw;               // we could throw the exception as well. More on this later in \"ExceptionHandling\" notebook.\n",
    "    }\n",
    "}"
   ]
  },
  {
   "cell_type": "code",
   "execution_count": 10,
   "metadata": {
    "dotnet_interactive": {
     "language": "csharp"
    },
    "polyglot_notebook": {
     "kernelName": "csharp"
    }
   },
   "outputs": [
    {
     "name": "stdout",
     "output_type": "stream",
     "text": [
      "Press any key to cancel the task\n",
      "Working...\n",
      "Working...\n",
      "Operation cancelled.\n"
     ]
    }
   ],
   "source": [
    "using System;\n",
    "using System.Threading;\n",
    "using System.Threading.Tasks;\n",
    "using (var cancellationTokenSource = new CancellationTokenSource()){\n",
    "    CancellationToken cancellationToken = cancellationTokenSource.Token;\n",
    "\n",
    "    Task task = Task.Run(()=> PerformAsyncOperation(cancellationToken));\n",
    "\n",
    "    Console.WriteLine(\"Press any key to cancel the task\");\n",
    "    Console.ReadLine();\n",
    "\n",
    "    cancellationTokenSource.Cancel();\n",
    "\n",
    "    await task; // awaiting to observe the exception it will raise.\n",
    "}"
   ]
  }
 ],
 "metadata": {
  "kernelspec": {
   "display_name": ".NET (C#)",
   "language": "C#",
   "name": ".net-csharp"
  },
  "language_info": {
   "name": "polyglot-notebook"
  },
  "polyglot_notebook": {
   "kernelInfo": {
    "defaultKernelName": "csharp",
    "items": [
     {
      "aliases": [],
      "languageName": "csharp",
      "name": "csharp"
     }
    ]
   }
  }
 },
 "nbformat": 4,
 "nbformat_minor": 2
}
