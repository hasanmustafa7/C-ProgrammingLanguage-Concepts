{
 "cells": [
  {
   "cell_type": "markdown",
   "metadata": {},
   "source": [
    "<h1>Fields Vs Properties</h1>\n",
    "    "
   ]
  },
  {
   "cell_type": "markdown",
   "metadata": {},
   "source": [
    " -       Property\n",
    "    - a combination of a method and a field.\n",
    "    - Provides a way to read, write and even compute values of private fields.\n",
    "    - They have Getters and Setters for handling data access and data manipulation.\n",
    "    - Can be static and instance.\n",
    "    - A property without setter is like a readonly field.      \n",
    "    -       Btw readonly can not be applied on properties. \n",
    "    - Removing the setter of a property make it act like readonly. This is a good way of making a property act like readonly field if there comes a need.\n",
    " -       Fields\n",
    "      - Variables declared inside class or struct.\n",
    "      - Can be public, private and protected.\n",
    "      - Can be static or instance.\n",
    "    - Fields can not be over ridden. But properties, like methods, can be over-ridden.\n",
    " -      Rule of thumb : \n",
    "     *  Make fields private. \n",
    "     *  If a component needs to be exposed to outside, create a property.\n",
    " -       Usage: \n",
    "      -  Fields are typically made private and are used internally within the class. \n",
    "      -  Properties act as a public interface to the outside world, allowing controlled access to the class’s data.\n",
    "\n"
   ]
  },
  {
   "attachments": {
    "image.png": {
     "image/png": "[encoded data removed]"
    }
   },
   "cell_type": "markdown",
   "metadata": {},
   "source": [
    "<h1>New Keyword</h1> \n",
    "used to create an instance and assign the instance right memory.\n",
    "\n",
    "![image.png](attachment:image.png)"
   ]
  },
  {
   "cell_type": "code",
   "execution_count": 3,
   "metadata": {
    "dotnet_interactive": {
     "language": "csharp"
    },
    "polyglot_notebook": {
     "kernelName": "csharp"
    }
   },
   "outputs": [],
   "source": [
    "class Rectangle\n",
    "{\n",
    "    public readonly int Width;  // Field | Settable only during declaration and inside the constructor\n",
    "    private int _height;        // readonly is removed to make _height settable.\n",
    "\n",
    "    public void SetHeight(int val) => _height = val > 0 ? val : 0;\n",
    "    public int GetHeight() => _height;\n",
    "    \n",
    "    // old way of creating property. \n",
    "    private int _area;      // Backing Field\n",
    "    public int Area {\n",
    "        get\n",
    "        {\n",
    "            return _area;\n",
    "        }\n",
    "        private set // setter is private. Hence cant modifiy outside of class.\n",
    "        {\n",
    "            _area = value;\n",
    "        } \n",
    "    }\n",
    "\n",
    "    private int _perimeter;\n",
    "    public int Perimeter{\n",
    "        get{\n",
    "            return _perimeter;\n",
    "        }\n",
    "        private set\n",
    "        {\n",
    "            _perimeter = value;\n",
    "        }\n",
    "    }\n",
    "\n",
    "    private int _sidesOfShape = 4;\n",
    "    public int SidesOfShape\n",
    "    {\n",
    "        get{\n",
    "            return _sidesOfShape;\n",
    "        }\n",
    "        set{\n",
    "            _sidesOfShape = value;\n",
    "        }\n",
    "    }\n",
    "    const string ShapeName = \"RectangleShape\"; // compile-time constant \n",
    "\n",
    "    public Rectangle()\n",
    "    {\n",
    "        // not assigning read-only fields a constant value. Default value be assigned in this case\n",
    "    }\n",
    "    public Rectangle(int width, int height)\n",
    "    {\n",
    "        SetHeight(height);\n",
    "        Width = width;\n",
    "    }\n",
    "}"
   ]
  },
  {
   "cell_type": "code",
   "execution_count": 4,
   "metadata": {
    "dotnet_interactive": {
     "language": "csharp"
    },
    "polyglot_notebook": {
     "kernelName": "csharp"
    }
   },
   "outputs": [
    {
     "name": "stdout",
     "output_type": "stream",
     "text": [
      "Width : 3\n",
      "Height : 1\n",
      "Height : 10\n"
     ]
    }
   ],
   "source": [
    "Rectangle rec=  new Rectangle(3,1);         \n",
    "Console.WriteLine(\"Width : \" + rec.Width);\n",
    "Console.WriteLine(\"Height : \" + rec.GetHeight());\n",
    "rec.SetHeight(10);\n",
    "Console.WriteLine(\"Height : \" + rec.GetHeight());\n",
    "// rec.Width = 1; // ❌ Error"
   ]
  },
  {
   "cell_type": "code",
   "execution_count": null,
   "metadata": {
    "dotnet_interactive": {
     "language": "csharp"
    },
    "polyglot_notebook": {
     "kernelName": "csharp"
    }
   },
   "outputs": [
    {
     "name": "stdout",
     "output_type": "stream",
     "text": [
      "Width : 0\n",
      "Area : 0\n"
     ]
    }
   ],
   "source": [
    "Rectangle rec = new Rectangle();\n",
    "Console.WriteLine(\"Width : \" + rec.Width);\n",
    "// rec.Area = 10; // error. Due to private setter\n",
    "Console.WriteLine(\"Area : \" + rec.Area);\n",
    "Console.ReadLine();"
   ]
  },
  {
   "cell_type": "code",
   "execution_count": null,
   "metadata": {
    "dotnet_interactive": {
     "language": "csharp"
    },
    "polyglot_notebook": {
     "kernelName": "csharp"
    }
   },
   "outputs": [],
   "source": [
    "class Rectangle\n",
    "{\n",
    "    public readonly int Width;  // Field\n",
    "    private int _height;        // readonly is removed to make _height settable.\n",
    "\n",
    "    public void SetHeight(int val) => _height = val > 0 ? val : 0;\n",
    "    public int GetHeight() => _height;\n",
    "    \n",
    "    // New way of property. Creates same code as above behind the scene.\n",
    "    public int Area {get; set;}\n",
    "    public int Perimeter { get; set; }\n",
    "    public int SidesOfShape { get; } = 4;       // No setter. Hence assignment is possible only during declaration and in constructor. Works like readonly field.\n",
    "    \n",
    "    const string ShapeName = \"RectangleShape\"; // compile-time constant \n",
    "\n",
    "    public Rectangle()\n",
    "    {\n",
    "        // not assigning read-only fields a constant value. Default value be assigned in this case\n",
    "    }\n",
    "    public Rectangle(int width, int height)\n",
    "    {\n",
    "        SetHeight(height);\n",
    "        Width = width;\n",
    "    }\n",
    "}"
   ]
  },
  {
   "cell_type": "code",
   "execution_count": null,
   "metadata": {
    "dotnet_interactive": {
     "language": "csharp"
    },
    "polyglot_notebook": {
     "kernelName": "csharp"
    }
   },
   "outputs": [],
   "source": [
    "Rectangle rec=  new Rectangle(3,1);         \n",
    "Console.WriteLine(\"Width : \" + rec.Width);\n",
    "Console.WriteLine(\"Height : \" + rec.GetHeight());\n",
    "rec.SetHeight(10);\n",
    "Console.WriteLine(\"Height : \" + rec.GetHeight());\n",
    "// rec.Width = 1; // ❌ Error"
   ]
  },
  {
   "cell_type": "code",
   "execution_count": null,
   "metadata": {
    "dotnet_interactive": {
     "language": "csharp"
    },
    "polyglot_notebook": {
     "kernelName": "csharp"
    }
   },
   "outputs": [],
   "source": [
    "Rectangle rec = new Rectangle();\n",
    "Console.WriteLine(\"Width : \" + rec.Width);\n",
    "// rec.Area = 10; // error. Due to private setter\n",
    "Console.WriteLine(\"Area : \" + rec.Area);\n",
    "Console.ReadLine();"
   ]
  },
  {
   "cell_type": "markdown",
   "metadata": {},
   "source": [
    "<h1>Object Initializer</h1>"
   ]
  },
  {
   "cell_type": "markdown",
   "metadata": {},
   "source": [
    "\n",
    "-   If class has properties that are publicly settable, then the properties can be initialized during the instantiation of the object using <strong style=\"color:red\">object initializer</strong>.\n",
    "-   But if the property is private, it can NOT be initialized using object initializer.\n",
    "-   Using object initializer is a convenience, we should use it. But at the same time having properties \n",
    "-   We do not need to initialize all the properties using object initializer. The skipped properties will be assigned the default value of their type.\n",
    "-   Is it better to use object initializer or constructor?\n",
    "-   With Constructor, all required parameters must be passed. Where as with object initializer we can skip some and pass value for         some.\n",
    "\n",
    "-   PUBLIC COPMUTED PROPERTIES : should not return heavy computations. For heavy computations use methods. Not properties.\n",
    " \n",
    " \n"
   ]
  },
  {
   "cell_type": "code",
   "execution_count": null,
   "metadata": {
    "dotnet_interactive": {
     "language": "csharp"
    },
    "polyglot_notebook": {
     "kernelName": "csharp"
    }
   },
   "outputs": [],
   "source": [
    "class Person\n",
    "{\n",
    "    public string Name  { get; set; }\n",
    "    public int YearOfBirth { get; set; }\n",
    "}"
   ]
  },
  {
   "cell_type": "code",
   "execution_count": null,
   "metadata": {
    "dotnet_interactive": {
     "language": "csharp"
    },
    "polyglot_notebook": {
     "kernelName": "csharp"
    }
   },
   "outputs": [],
   "source": [
    "// If we want the ability of setting the property to happen just once during the instantiaton of the object, we can use init instead of set.\n",
    "class Vehicle\n",
    "{\n",
    "    public int Model { get; init; } // should be set once during instantiation. Not ever after that.\n",
    "    public int MilesDriven { get; set; } // if we dont assign this, it will set to default value of int.\n",
    "\n",
    "    // what if we dont assign the init any value\n",
    "}"
   ]
  },
  {
   "cell_type": "code",
   "execution_count": null,
   "metadata": {
    "dotnet_interactive": {
     "language": "csharp"
    },
    "polyglot_notebook": {
     "kernelName": "csharp"
    }
   },
   "outputs": [],
   "source": [
    "class Account\n",
    "{\n",
    "    public int ClosingBalance { get;  }\n",
    "    public string Title { get; }\n",
    "    public string Report => $\"{Title} has closing balanace of {ClosingBalance}\"; // public computed property. The string is built everytime property is called.\n",
    "    public Account(string title, int closingBal)\n",
    "    {\n",
    "        ClosingBalance = closingBal;\n",
    "        Title = title;\n",
    "    }\n",
    "}"
   ]
  },
  {
   "cell_type": "code",
   "execution_count": null,
   "metadata": {
    "dotnet_interactive": {
     "language": "csharp"
    },
    "polyglot_notebook": {
     "kernelName": "csharp"
    }
   },
   "outputs": [],
   "source": [
    "Person person = new Person() // Object Initializer Syntax\n",
    "       {\n",
    "           Name = \"Hasan\",\n",
    "           YearOfBirth = 1997\n",
    "       };\n",
    "       // //  Above code is equivalent to the code below\n",
    "       Person me = new Person();\n",
    "       me.Name = \"Hasan\";\n",
    "       me.YearOfBirth = 1997;                     \n",
    "\n",
    "       Vehicle car = new Vehicle()\n",
    "       {\n",
    "           //Model = 2018\n",
    "           MilesDriven = 123\n",
    "       };\n",
    "\n",
    "       Account acc = new Account(\"Hasan Mustafa\",10000000);\n",
    "       // acc.ClosingBalance = 100; // Not settable. Has no setter. Hence acts like readonly property.\n"
   ]
  },
  {
   "cell_type": "markdown",
   "metadata": {},
   "source": [
    "<h1>Nullables</h1>\n",
    "There are 2 ways of defining a value type as nullables.<br>\n",
    "Value Types are non nullable types. <br>\n",
    "DateTime is a value type. <br>"
   ]
  },
  {
   "cell_type": "code",
   "execution_count": null,
   "metadata": {
    "dotnet_interactive": {
     "language": "csharp"
    },
    "polyglot_notebook": {
     "kernelName": "csharp"
    }
   },
   "outputs": [],
   "source": [
    "\n",
    "Nullable<DateTime> date = null; // Genric Type helping us create nullable types out of value types.\n",
    "DateTime? anotherDate = null;   // Short Hand way\n",
    "int? num = null;"
   ]
  },
  {
   "cell_type": "markdown",
   "metadata": {},
   "source": [
    "Important properties and a method for Nullable Types <br>\n",
    ".HasValue <br>\n",
    ".Value <br>\n",
    ".GetValueOrDefault() <br>"
   ]
  },
  {
   "cell_type": "code",
   "execution_count": null,
   "metadata": {
    "dotnet_interactive": {
     "language": "csharp"
    },
    "polyglot_notebook": {
     "kernelName": "csharp"
    }
   },
   "outputs": [],
   "source": [
    "Console.WriteLine(\"GetValueOrDefault() : \" + date.GetValueOrDefault());\n",
    "Console.WriteLine(\"GetValueOrDefault() for int : \" + num.GetValueOrDefault());"
   ]
  },
  {
   "cell_type": "code",
   "execution_count": null,
   "metadata": {
    "dotnet_interactive": {
     "language": "csharp"
    },
    "polyglot_notebook": {
     "kernelName": "csharp"
    }
   },
   "outputs": [],
   "source": [
    "Console.WriteLine(\".HasValue : \" + date.HasValue);"
   ]
  },
  {
   "cell_type": "code",
   "execution_count": null,
   "metadata": {
    "dotnet_interactive": {
     "language": "csharp"
    },
    "polyglot_notebook": {
     "kernelName": "csharp"
    }
   },
   "outputs": [],
   "source": [
    "Console.WriteLine(\".Value : \" + date.Value); // Throws exception when nullable type has null value assigned to it."
   ]
  },
  {
   "cell_type": "markdown",
   "metadata": {},
   "source": [
    "<h3>Rule Of Thumb</h3> \n",
    "Make sure nullable types have a value assigned to them whenever you access .Value property on them. <br>\n",
    "Otherwise, an exception will be thrown. <br>\n",
    "The preferred way of accessing the value on a nullable type is to call .GetValueOrDefault() method on the nullable type."
   ]
  },
  {
   "cell_type": "code",
   "execution_count": null,
   "metadata": {
    "dotnet_interactive": {
     "language": "csharp"
    },
    "polyglot_notebook": {
     "kernelName": "csharp"
    }
   },
   "outputs": [],
   "source": [
    "DateTime? date = null;\n",
    "DateTime date2 = date;\n",
    "\n",
    "DateTime? newDate = new DateTime(2014,1,1);\n",
    "DateTime newDate2 = newDate;                // ❌ Wrong     |   nullable type to non-nullable type\n",
    "\n",
    "newDate2 = newDate.GetValueOrDefault();     // ✔️ Correct   |   newDate is not null. GetValueOrDefault() return actual value \n",
    "date2 = date.GetValueOrDefault();           // ✔️ Correct   |   date is null. GetValueOrDefault() returns default ➡️ 1/1/0001 12:00:00 AM."
   ]
  },
  {
   "cell_type": "markdown",
   "metadata": {},
   "source": [
    "<h3>Null Coalescing Operator </h3>"
   ]
  },
  {
   "cell_type": "code",
   "execution_count": null,
   "metadata": {
    "dotnet_interactive": {
     "language": "csharp"
    },
    "polyglot_notebook": {
     "kernelName": "csharp"
    }
   },
   "outputs": [],
   "source": [
    "DateTime? date = null;\n",
    "DateTime? date2 = date.GetValueOrDefault();\n",
    "\n",
    "if(date != null)\n",
    "{\n",
    "    date2 = date.Value;\n",
    "}else{\n",
    "    date2 = DateTime.Today;\n",
    "}\n",
    "\n",
    "Console.WriteLine(date2);\n"
   ]
  },
  {
   "cell_type": "code",
   "execution_count": null,
   "metadata": {
    "dotnet_interactive": {
     "language": "csharp"
    },
    "polyglot_notebook": {
     "kernelName": "csharp"
    }
   },
   "outputs": [],
   "source": [
    "DateTime? date = null;\n",
    "DateTime date2 = date ?? DateTime.Today; // Similar to ternary operator"
   ]
  },
  {
   "cell_type": "markdown",
   "metadata": {},
   "source": [
    "<h1>Static Classes</h1>"
   ]
  },
  {
   "cell_type": "markdown",
   "metadata": {},
   "source": [
    " <h2>Some Notes about static classes.</h2>\n",
    "/* \n",
    " * Static classes are stateless.\n",
    " * Non-static classes are statefull.\n",
    " * There is no data inside static classes that would make the instance object of it any different from other instance objects of the same static class.\n",
    " * \n",
    " * \n",
    " * Static Methods\n",
    " *      static methods belong to the class as a whole, and not to a specific instance.\n",
    " *      static methods can not access instance data like data stored in fields and properties of a class.\n",
    " *      When all methods inside a class are static then we can also make the class static as well.\n",
    " *      Static classes can only contain static methods. Addition of non-static methods will give compilation error.\n",
    " *      \n",
    " *      Non-static classes can contain static methods.\n",
    " *      Calling a static method on an instance object of a class will not work.\n",
    " *      \n",
    " *      Benefit of making a method static is that they run slightly faster.\n",
    " *      It is good practice to declare methods static which do not make use of any instance fields and properties. This way those methods not only can be called in non-static methods but also in static methods. If such methods are not declared static, then they can not be called inside static methods which might hinder the code reusablility. Hence making methods static which do not make use of instance data is useful and considered good practice.\n",
    " *      \n",
    " *      NOTE:\n",
    " *      All const fields of a class are implicitly static.\n",
    " *      \n",
    " *      Both static and non-static classes can contain static fields and properties.\n",
    " *      \n",
    " *      Both the initialization of static fields and the calling of the static constructor happen before the first instance of the containing class is created. The exact time when the static constructor is called before the first instance is created is not known.\n",
    " *      \n",
    " *      Having static fields and static properties is risky and should be avoided.\n",
    " *      \n",
    " */"
   ]
  }
 ],
 "metadata": {
  "kernelspec": {
   "display_name": ".NET (C#)",
   "language": "C#",
   "name": ".net-csharp"
  },
  "language_info": {
   "name": "polyglot-notebook"
  },
  "polyglot_notebook": {
   "kernelInfo": {
    "defaultKernelName": "csharp",
    "items": [
     {
      "aliases": [],
      "languageName": "csharp",
      "name": "csharp"
     }
    ]
   }
  }
 },
 "nbformat": 4,
 "nbformat_minor": 2
}
