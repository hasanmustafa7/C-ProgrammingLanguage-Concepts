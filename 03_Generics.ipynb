{
 "cells": [
  {
   "cell_type": "markdown",
   "metadata": {},
   "source": [
    "<h1>Generics</h1>"
   ]
  },
  {
   "cell_type": "code",
   "execution_count": null,
   "metadata": {
    "dotnet_interactive": {
     "language": "csharp"
    },
    "polyglot_notebook": {
     "kernelName": "csharp"
    }
   },
   "outputs": [],
   "source": [
    "public class NumberList\n",
    "{\n",
    "    public int[] number = new int[10];\n",
    "    int count = 0;\n",
    "    public void Add(int number)\n",
    "    {\n",
    "        this.number[count] = number;\n",
    "        this.count++;\n",
    "    }\n",
    "    public int GetNumber(int index)\n",
    "    {\n",
    "        return this.number.ElementAt<int>(index);\n",
    "    }\n",
    "}"
   ]
  },
  {
   "cell_type": "code",
   "execution_count": null,
   "metadata": {
    "dotnet_interactive": {
     "language": "csharp"
    },
    "polyglot_notebook": {
     "kernelName": "csharp"
    }
   },
   "outputs": [],
   "source": [
    "NumberList list = new NumberList();\n",
    "\n",
    "list.Add(1);\n",
    "list.Add(100);\n",
    "Console.WriteLine(list.GetNumber(0));"
   ]
  },
  {
   "cell_type": "code",
   "execution_count": null,
   "metadata": {
    "dotnet_interactive": {
     "language": "csharp"
    },
    "polyglot_notebook": {
     "kernelName": "csharp"
    }
   },
   "outputs": [],
   "source": [
    "\n",
    "class Book\n",
    "{\n",
    "    public int Id {get;set;}\n",
    "    public string Title {get;set;}\n",
    "}"
   ]
  },
  {
   "cell_type": "code",
   "execution_count": null,
   "metadata": {
    "dotnet_interactive": {
     "language": "csharp"
    },
    "polyglot_notebook": {
     "kernelName": "csharp"
    }
   },
   "outputs": [],
   "source": [
    "class BookList\n",
    "{\n",
    "    public Book[] bookList = new Book[5];\n",
    "    int count = 0;\n",
    "    public void Add(Book book)\n",
    "    {\n",
    "        bookList[count] = book;\n",
    "        count++; \n",
    "    }\n",
    "    public Book GetBook(int index)\n",
    "    {\n",
    "        return bookList[index];\n",
    "    }\n",
    "}\n"
   ]
  },
  {
   "cell_type": "code",
   "execution_count": null,
   "metadata": {
    "dotnet_interactive": {
     "language": "csharp"
    },
    "polyglot_notebook": {
     "kernelName": "csharp"
    }
   },
   "outputs": [],
   "source": [
    "BookList bookList = new BookList();\n",
    "\n",
    "Book book1 = new Book{Title = \"book1\", Id = 1};\n",
    "Book book2 = new Book{Title = \"Book2\", Id = 2};\n",
    "Book book3 = new Book{Title = \"Book3\", Id = 3};\n",
    "\n",
    "bookList.Add(book1);\n",
    "bookList.Add(book2);\n",
    "bookList.Add(book3);\n",
    "var fetchedBook = bookList.GetBook(2);\n",
    "\n",
    "Console.WriteLine(fetchedBook.Id);\n",
    "Console.WriteLine(fetchedBook.Title);"
   ]
  },
  {
   "cell_type": "markdown",
   "metadata": {},
   "source": [
    "Above you created as many classes as there are different data types that need to be stored in some kind of list.\n",
    "Code duplication could be seen above since separate class was being created."
   ]
  },
  {
   "cell_type": "markdown",
   "metadata": {},
   "source": [
    "Generics solve this problem of code duplication."
   ]
  },
  {
   "cell_type": "code",
   "execution_count": null,
   "metadata": {
    "dotnet_interactive": {
     "language": "csharp"
    },
    "polyglot_notebook": {
     "kernelName": "csharp"
    }
   },
   "outputs": [],
   "source": [
    "public class GenericList<T>\n",
    "{\n",
    "    private T[] list = new T[10];\n",
    "    int count = 0;\n",
    "    public void Add(T val)\n",
    "    {\n",
    "        list[count] = val;\n",
    "        count++;\n",
    "    }\n",
    "\n",
    "    public T GetValue(int index)\n",
    "    {\n",
    "        return list[index];\n",
    "    }\n",
    "}"
   ]
  },
  {
   "cell_type": "markdown",
   "metadata": {},
   "source": [
    "Generic with more than one parameters"
   ]
  },
  {
   "cell_type": "code",
   "execution_count": null,
   "metadata": {
    "dotnet_interactive": {
     "language": "csharp"
    },
    "polyglot_notebook": {
     "kernelName": "csharp"
    }
   },
   "outputs": [],
   "source": [
    "public class GenericDictionary<TKey,TValue>\n",
    "{\n",
    "    \n",
    "    public void Add(TKey Key, TValue value)\n",
    "    {\n",
    "        \n",
    "    }\n",
    "}"
   ]
  },
  {
   "cell_type": "code",
   "execution_count": null,
   "metadata": {
    "dotnet_interactive": {
     "language": "csharp"
    },
    "polyglot_notebook": {
     "kernelName": "csharp"
    }
   },
   "outputs": [],
   "source": [
    "GenericList<Book> newBookList =new GenericList<Book>();\n",
    "\n",
    "newBookList.Add(new Book{Title = \"New Book 1\", Id = 1});\n",
    "newBookList.Add(new Book{Title = \"New Book 2\", Id = 2});\n",
    "\n",
    "var newBook = newBookList.GetValue(1);\n",
    "Console.WriteLine(newBook.Id);\n",
    "Console.WriteLine(newBook.Title);"
   ]
  },
  {
   "cell_type": "code",
   "execution_count": null,
   "metadata": {
    "dotnet_interactive": {
     "language": "csharp"
    },
    "polyglot_notebook": {
     "kernelName": "csharp"
    }
   },
   "outputs": [],
   "source": [
    "GenericList<string> wordsList = new GenericList<string>();\n",
    "\n",
    "wordsList.Add(\"Word 1\");\n",
    "wordsList.Add(\"Word 2\");\n",
    "wordsList.Add(\"Word 3\");\n",
    "\n",
    "Console.WriteLine(wordsList.GetValue(0));\n",
    "Console.WriteLine(wordsList.GetValue(1));\n",
    "Console.WriteLine(wordsList.GetValue(2));"
   ]
  },
  {
   "cell_type": "markdown",
   "metadata": {},
   "source": [
    "Most of the times, you will be working with the already existing generics rather than creating one of your own. <br>You can find existing Generics in the System.Collections.Generic namespace in Dotnet"
   ]
  },
  {
   "cell_type": "markdown",
   "metadata": {},
   "source": [
    "<h2>Generic Constraints</h2>"
   ]
  },
  {
   "cell_type": "markdown",
   "metadata": {},
   "source": [
    "There is nothing wrong in creating generic method inside non-generic class.<br>\n",
    "Constraints can be added that restrict the type of object that can be passed as argument to the generic method."
   ]
  },
  {
   "cell_type": "code",
   "execution_count": null,
   "metadata": {
    "dotnet_interactive": {
     "language": "csharp"
    },
    "polyglot_notebook": {
     "kernelName": "csharp"
    }
   },
   "outputs": [],
   "source": [
    "T GenericMethod<T>(T a) where T : Book\n",
    "{\n",
    "    // operations performed ...\n",
    "    return a;\n",
    "}"
   ]
  },
  {
   "cell_type": "code",
   "execution_count": null,
   "metadata": {
    "dotnet_interactive": {
     "language": "csharp"
    },
    "polyglot_notebook": {
     "kernelName": "csharp"
    }
   },
   "outputs": [],
   "source": [
    "public class GenericsThings // Non Generic Class\n",
    "{\n",
    "    public int Max(int a, int b)\n",
    "    {\n",
    "        return a > b ? a : b;\n",
    "    }\n",
    "\n",
    "    // public T Max(T a, T b)\n",
    "    // {\n",
    "    //     return a > b ? a : b;  // Not comparable since type is not inferred.\n",
    "    // }\n",
    "\n",
    "    public T Max<T>(T a, T b) where T : IComparable\n",
    "    {\n",
    "        return a.CompareTo(b) > 0 ? a : b;\n",
    "    }\n",
    "\n",
    "}"
   ]
  },
  {
   "cell_type": "code",
   "execution_count": null,
   "metadata": {
    "dotnet_interactive": {
     "language": "csharp"
    },
    "polyglot_notebook": {
     "kernelName": "csharp"
    }
   },
   "outputs": [],
   "source": [
    "public class GenericsThings<T> where T : IComparable \n",
    "{\n",
    "    public T Max(T a, T b)\n",
    "    {\n",
    "        return a.CompareTo(b) > 0 ? a : b;\n",
    "    }\n",
    "}"
   ]
  },
  {
   "cell_type": "code",
   "execution_count": null,
   "metadata": {
    "dotnet_interactive": {
     "language": "csharp"
    },
    "polyglot_notebook": {
     "kernelName": "csharp"
    }
   },
   "outputs": [],
   "source": [
    "// 4 types of constraints\n",
    "// where T : Interface/Contract\n",
    "// where T : Class\n",
    "// where T : struct\n",
    "// where T : new()"
   ]
  },
  {
   "cell_type": "code",
   "execution_count": null,
   "metadata": {
    "dotnet_interactive": {
     "language": "csharp"
    },
    "polyglot_notebook": {
     "kernelName": "csharp"
    }
   },
   "outputs": [],
   "source": [
    "public class Nullable<T> where T : struct\n",
    "{\n",
    "    private object _value;\n",
    "    public Nullable()\n",
    "    {}\n",
    "\n",
    "    public Nullable(T value)\n",
    "    {\n",
    "        _value = value;\n",
    "    }\n",
    "\n",
    "    public bool HasValue\n",
    "    {\n",
    "        get{ return _value != null;}\n",
    "    }\n",
    "\n",
    "    public T GetValueOrDefault\n",
    "    {\n",
    "        get{\n",
    "            if(HasValue)\n",
    "                return (T)_value;\n",
    "            else \n",
    "            return default(T);\n",
    "        }\n",
    "    }\n",
    "}"
   ]
  },
  {
   "cell_type": "code",
   "execution_count": null,
   "metadata": {
    "dotnet_interactive": {
     "language": "csharp"
    },
    "polyglot_notebook": {
     "kernelName": "csharp"
    }
   },
   "outputs": [],
   "source": [
    "var number = new Nullable<int>();\n",
    "Console.WriteLine(\"Has Value : \" + number.HasValue);\n",
    "Console.WriteLine(\"Value : \" + number.GetValueOrDefault);"
   ]
  },
  {
   "cell_type": "markdown",
   "metadata": {},
   "source": [
    "If you need to instantiate a type class inside a generic method then you must place a constraint for class on the generic method."
   ]
  },
  {
   "cell_type": "code",
   "execution_count": null,
   "metadata": {
    "dotnet_interactive": {
     "language": "csharp"
    },
    "polyglot_notebook": {
     "kernelName": "csharp"
    }
   },
   "outputs": [],
   "source": [
    "public class HelperFunctions<T> \n",
    "{\n",
    "\n",
    "    public void PerformSomeWork(T value)\n",
    "    {\n",
    "        var obj = new T(); // Error! Type is not known.\n",
    "    }\n",
    "}"
   ]
  },
  {
   "cell_type": "code",
   "execution_count": null,
   "metadata": {
    "dotnet_interactive": {
     "language": "csharp"
    },
    "polyglot_notebook": {
     "kernelName": "csharp"
    }
   },
   "outputs": [],
   "source": [
    "public class HelperFunctions<T> where T : new()\n",
    "{\n",
    "    public void PerformSomeWork(T value)\n",
    "    {\n",
    "        var obj = new T();\n",
    "    }\n",
    "}"
   ]
  },
  {
   "cell_type": "markdown",
   "metadata": {},
   "source": [
    "Combining constraints on generic class/method"
   ]
  },
  {
   "cell_type": "code",
   "execution_count": null,
   "metadata": {
    "dotnet_interactive": {
     "language": "csharp"
    },
    "polyglot_notebook": {
     "kernelName": "csharp"
    }
   },
   "outputs": [],
   "source": [
    "public class HelperFunctions<T> where T :IComparable, new()\n",
    "{\n",
    "    public T Max(T a, T b)\n",
    "    {\n",
    "        return a.CompareTo(b) > 0 ? a : b;\n",
    "    }\n",
    "    \n",
    "    public void PerformSomeWork(T value)\n",
    "    {\n",
    "        var obj = new T();\n",
    "    }\n",
    "}"
   ]
  }
 ],
 "metadata": {
  "kernelspec": {
   "display_name": ".NET (C#)",
   "language": "C#",
   "name": ".net-csharp"
  },
  "language_info": {
   "name": "polyglot-notebook"
  },
  "polyglot_notebook": {
   "kernelInfo": {
    "defaultKernelName": "csharp",
    "items": [
     {
      "aliases": [],
      "languageName": "csharp",
      "name": "csharp"
     }
    ]
   }
  }
 },
 "nbformat": 4,
 "nbformat_minor": 2
}
