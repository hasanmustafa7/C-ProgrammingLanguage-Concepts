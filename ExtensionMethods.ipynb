{
 "cells": [
  {
   "cell_type": "markdown",
   "metadata": {},
   "source": [
    "<h1>Extension Methods</h1>"
   ]
  },
  {
   "cell_type": "markdown",
   "metadata": {},
   "source": [
    "extension methods allow us to add more methods to existing classes without changing its current state of code and without   inheriting from it either."
   ]
  },
  {
   "cell_type": "markdown",
   "metadata": {},
   "source": [
    "    Conditions to create a extension method"
   ]
  },
  {
   "cell_type": "markdown",
   "metadata": {},
   "source": [
    "-Must be inside a static class. \n",
    "-Naming Convention of this static class is such that it start with the name of the type being extended and then Extension. For instance if extending string Type, then name of the static class will be StringExtensions\n",
    "-First argument of method is always such that it points to the instance of type being extended. "
   ]
  },
  {
   "cell_type": "code",
   "execution_count": 2,
   "metadata": {
    "dotnet_interactive": {
     "language": "csharp"
    },
    "polyglot_notebook": {
     "kernelName": "csharp"
    }
   },
   "outputs": [
    {
     "ename": "Error",
     "evalue": "(3,23): error CS1109: Extension methods must be defined in a top level static class; StringExtensions is a nested class",
     "output_type": "error",
     "traceback": [
      "(3,23): error CS1109: Extension methods must be defined in a top level static class; StringExtensions is a nested class"
     ]
    }
   ],
   "source": [
    "public static class StringExtensions\n",
    "{\n",
    "    public static int Compare(this String str, int numberOfCharacter){\n",
    "        Console.WriteLine(\"Our Compare method called\");\n",
    "        return -1;\n",
    "    }\n",
    "}"
   ]
  },
  {
   "cell_type": "markdown",
   "metadata": {},
   "source": [
    "Instance methods have priority over extension methods. "
   ]
  }
 ],
 "metadata": {
  "kernelspec": {
   "display_name": ".NET (C#)",
   "language": "C#",
   "name": ".net-csharp"
  },
  "language_info": {
   "name": "polyglot-notebook"
  },
  "polyglot_notebook": {
   "kernelInfo": {
    "defaultKernelName": "csharp",
    "items": [
     {
      "aliases": [],
      "languageName": "csharp",
      "name": "csharp"
     }
    ]
   }
  }
 },
 "nbformat": 4,
 "nbformat_minor": 2
}
