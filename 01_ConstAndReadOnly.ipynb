{
 "cells": [
  {
   "cell_type": "markdown",
   "metadata": {},
   "source": [
    "<h1>    Const and Read-only variables </h1>\n",
    "\n",
    "    ================  read-only  ============== \n",
    "read-only is only for class fields. It is not applicable on variables outside of class and not even for properties in side the class. <br>\n",
    "Readonly promotes Immutability in an instance of a class.\n",
    "\n",
    "    Immutability: \n",
    "Once the object has been created, its read-only fields will never be modified.\n",
    "\n",
    "The assignable value for read-only field can be run-time constant as well as compile-time constant.\n",
    "The value can be calculated at the run-time and be assigned to the read-only field inside the constructor.\n",
    "But this is not the case with the const variables and fields. <br>\n",
    "\n",
    "        Difference b/w Run time constant and compile time constant.\n",
    "\"runtime constant\" and \"compile-time constant\" refer to different types of constants based on <strong>WHEN</strong> their values are determined.\n",
    "\n",
    "    Good Practice:\n",
    "Fields that are not intended to be changed, once set in the constructor, should be declared read-only.\n",
    "\n",
    "    \n",
    "    ============   Const  ============\n",
    "const can be applied to both variables and fields. \n",
    "We use const for things with constant values <strong>known at compile-time</strong>.\n",
    "\n",
    "However, const variables and fields, inside a class, must be assigned during the DECLARATION and can never be modified afterwards.\n",
    "The value assigned is compile-time constant or literal value.\n",
    " \n",
    "Important Note :    const variable can not be declared with var. \n",
    "                    Implicitly-typed variables can not be constant. \n",
    "\n",
    "A niche use case of fields is to make them public for reading but private for writing.\n",
    "\n"
   ]
  },
  {
   "cell_type": "code",
   "execution_count": null,
   "metadata": {
    "dotnet_interactive": {
     "language": "csharp"
    },
    "polyglot_notebook": {
     "kernelName": "csharp"
    }
   },
   "outputs": [],
   "source": [
    "class Rectangle\n",
    "{\n",
    "    public readonly int Width;\n",
    "    public readonly int Height;\n",
    "    const string ShapeName = \"RectangleShape\"; // compile-time constant is assigned.\n",
    "\n",
    "    public Rectangle()\n",
    "    {\n",
    "        // not assigning read-only fields a constant value. Default value will be assigned in this case\n",
    "    }\n",
    "    public Rectangle(int width, int height)\n",
    "    {\n",
    "        Height = height;\n",
    "        Width = width;\n",
    "    }\n",
    "}"
   ]
  },
  {
   "cell_type": "code",
   "execution_count": null,
   "metadata": {
    "dotnet_interactive": {
     "language": "csharp"
    },
    "polyglot_notebook": {
     "kernelName": "csharp"
    }
   },
   "outputs": [],
   "source": [
    "Rectangle shape = new Rectangle(5,10);\n",
    "\n",
    "Console.WriteLine(shape.Width);\n",
    "Console.WriteLine(shape.Height);\n",
    "\n",
    "\n",
    "//shape.Width = 2; // read-only field is not assignable.\n",
    "//shape.Height = 3;\n",
    "\n",
    "Console.ReadLine();"
   ]
  }
 ],
 "metadata": {
  "kernelspec": {
   "display_name": ".NET (C#)",
   "language": "C#",
   "name": ".net-csharp"
  },
  "language_info": {
   "name": "polyglot-notebook"
  },
  "polyglot_notebook": {
   "kernelInfo": {
    "defaultKernelName": "csharp",
    "items": [
     {
      "aliases": [],
      "languageName": "csharp",
      "name": "csharp"
     }
    ]
   }
  }
 },
 "nbformat": 4,
 "nbformat_minor": 2
}
