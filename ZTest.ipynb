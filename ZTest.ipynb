{
 "cells": [
  {
   "cell_type": "markdown",
   "metadata": {},
   "source": [
    "using System.Collection.Generic;\n",
    "List<string> stringCollection = new List<string>();\n",
    "\n",
    "<!-- System.Collections.Generic.List<string> stringCollection = new List<string>(); -->\n",
    "\n",
    "\n",
    "Assembly    .dll\n",
    "namespace -> collection of related classes              \n",
    "Classes\n"
   ]
  }
 ],
 "metadata": {
  "kernelspec": {
   "display_name": ".NET (C#)",
   "language": "C#",
   "name": ".net-csharp"
  },
  "language_info": {
   "name": "polyglot-notebook"
  },
  "polyglot_notebook": {
   "kernelInfo": {
    "defaultKernelName": "csharp",
    "items": [
     {
      "aliases": [],
      "languageName": "csharp",
      "name": "csharp"
     }
    ]
   }
  }
 },
 "nbformat": 4,
 "nbformat_minor": 2
}
