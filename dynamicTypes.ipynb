{
 "cells": [
  {
   "cell_type": "markdown",
   "metadata": {},
   "source": [
    "<h1>Dynamic Type</h1>\n"
   ]
  },
  {
   "cell_type": "markdown",
   "metadata": {},
   "source": [
    "If dynamic variables are not to be used then we will have to incline towards the reflection namespace provided in .Net. <br>\n",
    "Reflection is a way to inspect the metadata about the Type and access its properties and methods dynamically."
   ]
  },
  {
   "cell_type": "markdown",
   "metadata": {},
   "source": [
    "<h3>Dynamic VS Object </h3>\n",
    "Object variables undergo type checking at run time. All the members and properties of the object types are known at compile time. <br>\n",
    "TIP : Thats why with the object types, IDE's intellsense work fine but not with the dynamic types because it's type is only known at the run time when the code get executed.\n",
    "<br>\n",
    "\n",
    "Unlike Object Type variables, dynamic type variables skip type checking which is commonly perform with static types but not with dynamic types. The type checking is deferred until the run time. It is called Late-Binding. \n",
    " "
   ]
  },
  {
   "cell_type": "code",
   "execution_count": null,
   "metadata": {
    "dotnet_interactive": {
     "language": "csharp"
    },
    "polyglot_notebook": {
     "kernelName": "csharp"
    }
   },
   "outputs": [],
   "source": [
    "object name = \"Hasan\";\n",
    "Console.WriteLine(name.GetHashCode());"
   ]
  },
  {
   "cell_type": "code",
   "execution_count": null,
   "metadata": {
    "dotnet_interactive": {
     "language": "csharp"
    },
    "polyglot_notebook": {
     "kernelName": "csharp"
    }
   },
   "outputs": [],
   "source": [
    "// With Reflection \n",
    "var methodInfo = name.GetType().GetMembers();\n",
    "Console.WriteLine(methodInfo);\n",
    "\n",
    "foreach(var prop in methodInfo)\n",
    "{\n",
    "    Console.WriteLine(prop);\n",
    "}"
   ]
  },
  {
   "cell_type": "markdown",
   "metadata": {},
   "source": [
    "CLR is .Net Virtual Machine compiles source code into IL code and IL code to machine code and run time.\n",
    "\n",
    "In .Net 4, microsoft added DLR, Dynamic Language Runtime, which sits on top of CLR and provides the dynamic capabilities to the C# Language.\n",
    "\n",
    "Note = RunTime Type changes "
   ]
  },
  {
   "cell_type": "code",
   "execution_count": null,
   "metadata": {
    "dotnet_interactive": {
     "language": "csharp"
    },
    "polyglot_notebook": {
     "kernelName": "csharp"
    }
   },
   "outputs": [],
   "source": [
    "object name = \"Hasan\";\n",
    "name.MakeBold();    // At runtime, the name is supposed to have a method, MakeBold()\n",
    "\n"
   ]
  },
  {
   "cell_type": "code",
   "execution_count": null,
   "metadata": {
    "dotnet_interactive": {
     "language": "csharp"
    },
    "polyglot_notebook": {
     "kernelName": "csharp"
    }
   },
   "outputs": [],
   "source": [
    "dynamic name = \"Hasan\";\n",
    "name.MakeBold();"
   ]
  },
  {
   "cell_type": "code",
   "execution_count": null,
   "metadata": {
    "dotnet_interactive": {
     "language": "csharp"
    },
    "polyglot_notebook": {
     "kernelName": "csharp"
    }
   },
   "outputs": [],
   "source": [
    "dynamic name = \"Hasan\";\n",
    "name = 123;"
   ]
  },
  {
   "cell_type": "code",
   "execution_count": null,
   "metadata": {
    "dotnet_interactive": {
     "language": "csharp"
    },
    "polyglot_notebook": {
     "kernelName": "csharp"
    }
   },
   "outputs": [],
   "source": [
    "dynamic placeName = \"Rose & Jasmine Garden\";\n",
    "placeName++; // Error at run time. But will build successfully."
   ]
  },
  {
   "cell_type": "markdown",
   "metadata": {},
   "source": [
    "When dynamic variable is on LHS of =\n",
    "implicit casting is done. No need for explicit casting.\n",
    "\n",
    "When dynamic variable is on RHS of = \n",
    "if runtime type of dynamic variable is implicitly convertible to the type that is on LHS of =, then implicit casting will be done. Otherwise, explicit casting is required."
   ]
  },
  {
   "cell_type": "code",
   "execution_count": null,
   "metadata": {
    "dotnet_interactive": {
     "language": "csharp"
    },
    "polyglot_notebook": {
     "kernelName": "csharp"
    }
   },
   "outputs": [],
   "source": [
    "int age = 25;\n",
    "long weight= 50;\n",
    "\n",
    "dynamic newAge = age;\n",
    "int oldAge = newAge;"
   ]
  },
  {
   "cell_type": "markdown",
   "metadata": {},
   "source": [
    "TODOs <br>\n",
    "\n",
    "Demonstrate Reflection \n",
    "Dynamic types \n",
    "\n",
    "Exception handling\n",
    "Boxing/Unboxing and their performance setback."
   ]
  }
 ],
 "metadata": {
  "kernelspec": {
   "display_name": ".NET (C#)",
   "language": "C#",
   "name": ".net-csharp"
  },
  "language_info": {
   "name": "polyglot-notebook"
  },
  "polyglot_notebook": {
   "kernelInfo": {
    "defaultKernelName": "csharp",
    "items": [
     {
      "aliases": [],
      "languageName": "csharp",
      "name": "csharp"
     }
    ]
   }
  }
 },
 "nbformat": 4,
 "nbformat_minor": 2
}
